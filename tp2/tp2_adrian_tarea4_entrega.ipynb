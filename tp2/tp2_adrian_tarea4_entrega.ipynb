{
 "cells": [
  {
   "cell_type": "code",
   "execution_count": 4,
   "metadata": {},
   "outputs": [],
   "source": [
    "# Para visualización en notebook\n",
    "%matplotlib inline\n",
    "import matplotlib.pyplot as plt\n",
    "import matplotlib as mpl\n",
    "mpl.rcParams['figure.figsize'] = (8,6)\n",
    "mpl.rcParams['font.size'] = 16\n",
    "import seaborn as sns\n",
    "\n",
    "# Números y Datos\n",
    "import numpy as np\n",
    "import pandas as pd\n",
    "import math\n",
    "import networkx as nx\n",
    "\n",
    "from glob import glob\n",
    "from pathlib import Path"
   ]
  },
  {
   "cell_type": "code",
   "execution_count": 2,
   "metadata": {},
   "outputs": [
    {
     "name": "stdout",
     "output_type": "stream",
     "text": [
      "Nro de archivos = 72\n",
      "Nro de sujetos = 18\n",
      "Nro de estadios = 4\n",
      "sleepStages = {'W', 'N1', 'N2', 'N3'}\n",
      "sleepStagesOrdered = ('W', 'N1', 'N2', 'N3')\n"
     ]
    }
   ],
   "source": [
    "filenames = glob('DataSujetos/*.csv')\n",
    "df = pd.read_csv(filenames[0], header=-1)\n",
    "n = df.shape[0]\n",
    "df -= np.diag(np.ones(n))\n",
    "\n",
    "print(\"Nro de archivos = \" + str(len(filenames)))\n",
    "subjects = set()\n",
    "sleepStages = set()\n",
    "for filename in filenames:\n",
    "        subjects.add(filename[filename.index('_') + 1:-4])\n",
    "        sleepStages.add(filename[filename.index('/') + 1: filename.index('_')])\n",
    "print(\"Nro de sujetos = \" + str(len(subjects)))\n",
    "print(\"Nro de estadios = \" + str(len(sleepStages)))\n",
    "\n",
    "sleepStagesOrdered = (\"W\", \"N1\", \"N2\", \"N3\")\n",
    "\n",
    "print(\"sleepStages = \" + str(sleepStages))\n",
    "print(\"sleepStagesOrdered = \" + str(sleepStagesOrdered))"
   ]
  },
  {
   "cell_type": "code",
   "execution_count": 5,
   "metadata": {},
   "outputs": [
    {
     "name": "stdout",
     "output_type": "stream",
     "text": [
      "DataSujetos/W_suj11.csv\n",
      "DataSujetos/W_suj16.csv\n",
      "DataSujetos/W_suj8.csv\n",
      "DataSujetos/W_suj18.csv\n",
      "DataSujetos/W_suj7.csv\n",
      "DataSujetos/W_suj1.csv\n",
      "DataSujetos/W_suj15.csv\n",
      "DataSujetos/W_suj4.csv\n",
      "DataSujetos/W_suj3.csv\n",
      "DataSujetos/W_suj5.csv\n",
      "DataSujetos/W_suj10.csv\n",
      "DataSujetos/W_suj14.csv\n",
      "DataSujetos/W_suj12.csv\n",
      "DataSujetos/W_suj2.csv\n",
      "DataSujetos/W_suj6.csv\n",
      "DataSujetos/W_suj17.csv\n",
      "DataSujetos/W_suj9.csv\n",
      "DataSujetos/W_suj13.csv\n",
      "DataSujetos/N1_suj4.csv\n",
      "DataSujetos/N1_suj9.csv\n",
      "DataSujetos/N1_suj3.csv\n",
      "DataSujetos/N1_suj10.csv\n",
      "DataSujetos/N1_suj15.csv\n",
      "DataSujetos/N1_suj1.csv\n",
      "DataSujetos/N1_suj13.csv\n",
      "DataSujetos/N1_suj11.csv\n",
      "DataSujetos/N1_suj7.csv\n",
      "DataSujetos/N1_suj2.csv\n",
      "DataSujetos/N1_suj14.csv\n",
      "DataSujetos/N1_suj6.csv\n",
      "DataSujetos/N1_suj16.csv\n",
      "DataSujetos/N1_suj18.csv\n",
      "DataSujetos/N1_suj8.csv\n",
      "DataSujetos/N1_suj5.csv\n",
      "DataSujetos/N1_suj12.csv\n",
      "DataSujetos/N1_suj17.csv\n",
      "DataSujetos/N2_suj14.csv\n",
      "DataSujetos/N2_suj17.csv\n",
      "DataSujetos/N2_suj10.csv\n",
      "DataSujetos/N2_suj1.csv\n",
      "DataSujetos/N2_suj5.csv\n",
      "DataSujetos/N2_suj15.csv\n",
      "DataSujetos/N2_suj18.csv\n",
      "DataSujetos/N2_suj6.csv\n",
      "DataSujetos/N2_suj13.csv\n",
      "DataSujetos/N2_suj9.csv\n",
      "DataSujetos/N2_suj12.csv\n",
      "DataSujetos/N2_suj7.csv\n",
      "DataSujetos/N2_suj2.csv\n",
      "DataSujetos/N2_suj4.csv\n",
      "DataSujetos/N2_suj11.csv\n",
      "DataSujetos/N2_suj16.csv\n",
      "DataSujetos/N2_suj3.csv\n",
      "DataSujetos/N2_suj8.csv\n",
      "DataSujetos/N3_suj4.csv\n",
      "DataSujetos/N3_suj16.csv\n",
      "DataSujetos/N3_suj3.csv\n",
      "DataSujetos/N3_suj6.csv\n",
      "DataSujetos/N3_suj12.csv\n",
      "DataSujetos/N3_suj11.csv\n",
      "DataSujetos/N3_suj10.csv\n",
      "DataSujetos/N3_suj13.csv\n",
      "DataSujetos/N3_suj18.csv\n",
      "DataSujetos/N3_suj8.csv\n",
      "DataSujetos/N3_suj14.csv\n",
      "DataSujetos/N3_suj5.csv\n",
      "DataSujetos/N3_suj7.csv\n",
      "DataSujetos/N3_suj2.csv\n",
      "DataSujetos/N3_suj9.csv\n",
      "DataSujetos/N3_suj17.csv\n",
      "DataSujetos/N3_suj1.csv\n",
      "DataSujetos/N3_suj15.csv\n"
     ]
    }
   ],
   "source": [
    "#Toma un archivo csv con la matriz de input y devuelve una lista de grafos con la densidad de aristas correspondiente\n",
    "def subjectmatrix2graphslist(filename, densities):\n",
    "    print(filename)\n",
    "    correlation_matrix = pd.read_csv(filename, header=-1)\n",
    "    n = correlation_matrix.shape[0]\n",
    "    max_links = (n*n-n)//2\n",
    "    tril_idx = np.tril_indices(n,-1)\n",
    "    sorted_correlations = sorted(correlation_matrix.values[tril_idx].flatten(),reverse=True)\n",
    "    \n",
    "    Gs = []\n",
    "    for d in densities:\n",
    "        idx = int(d*max_links)\n",
    "        threshold = sorted_correlations[idx]\n",
    "        Gs.append(nx.from_pandas_adjacency(correlation_matrix>=threshold))\n",
    "        \n",
    "    return Gs\n",
    "\n",
    "def graphslistBySleepStage(sleepStage, densities):\n",
    "    filenames = glob('DataSujetos/%s_*.csv' % sleepStage)\n",
    "    graphs = {}\n",
    "    for filename in filenames:\n",
    "        Gs = subjectmatrix2graphslist(filename, densities)\n",
    "        name = Path(filename).stem\n",
    "        graphs[name] = Gs\n",
    "    return graphs    \n",
    "    \n",
    "\n",
    "#es el limite inferior establecido en el paper\n",
    "min_density = 0.025\n",
    "max_density = 0.325\n",
    "step_density = 0.01\n",
    "count_density = math.ceil((max_density - min_density)/step_density)\n",
    "densities = np.linspace(min_density, max_density,count_density)\n",
    "\n",
    "graphsBySleepStage = {}\n",
    "\n",
    "#se arma una mapa por estadio de sueño con los grafos de cada individuo\n",
    "for sleepStage in sleepStages: \n",
    "    graphsBySleepStage[sleepStage] = graphslistBySleepStage(sleepStage, densities)\n",
    "\n"
   ]
  },
  {
   "cell_type": "markdown",
   "metadata": {},
   "source": [
    "# Tarea 4: Diferencias en la membresía para los diferentes estadíos"
   ]
  },
  {
   "cell_type": "markdown",
   "metadata": {},
   "source": [
    "Para identificar diferencias significativas globales en la membresía de los nodos entre los distintos estadíos del sueño (N1, N2 y N3), con el estadio despierto (W) se propone seguir el procedimiento propuesto por Alexander-Bloch y colaboradores [Alexander-Bloch et al., 2012].\n",
    "\n",
    "Se quiere saber si las comunidades encontradas en un estadio de sueño N X y las encontradas en el cerebro despierto W son similares.\n",
    "\n",
    "1. Se toman para todos los pares de sujetos en N X el Índice de Rand ajustado (adjusted-for-chance Rand index).\n",
    "2. Se toman para todos los pares de sujetos en W el Índice de Rand ajustado (adjusted-for-chance Rand index).\n",
    "3. Se promedian y se obtiene el Índice de Rand ajustado \"within-group\" observado (RIo). Se lo graficar junto al error estandar de la media.\n",
    "4. Se aleatorizan las etiquetas de los parece NX-W de forma que siempre esten todos los sujetos en cada grupo pero con las etiquetas cambiadas, y se repiten los pasos 1-3 de forma de obtener un Índice de Rand ajustado \"within-group\" permutado (RIp). Este paso se repite N p veces generando una distribución empirica de valores de valores RIp.\n",
    "5. El p-valor se calcula como la cantidad de permutaciones que dieron RIp > RIo divido Np."
   ]
  },
  {
   "cell_type": "code",
   "execution_count": 6,
   "metadata": {},
   "outputs": [],
   "source": [
    "from community import community_louvain"
   ]
  },
  {
   "cell_type": "code",
   "execution_count": 7,
   "metadata": {},
   "outputs": [],
   "source": [
    "from sklearn.metrics import adjusted_rand_score"
   ]
  },
  {
   "cell_type": "code",
   "execution_count": 8,
   "metadata": {},
   "outputs": [],
   "source": [
    "number_of_permutations = 1000\n",
    "wakeStage = sleepStagesOrdered[0]\n",
    "nxStages = (sleepStagesOrdered[1], sleepStagesOrdered[2], sleepStagesOrdered[3])\n",
    "\n",
    "def calculateWithinGroupSimilarity(modules_subjects):\n",
    "    rand_indexes = []\n",
    "    cant_subjects = len(modules_subjects)\n",
    "    for i in range(0, cant_subjects - 1):\n",
    "        for j in range(i + 1, cant_subjects):\n",
    "            rand_index = adjusted_rand_score(modules_subjects[i], modules_subjects[j])\n",
    "            rand_indexes.append(rand_index)\n",
    "    rand_indexes = np.vstack(rand_indexes)\n",
    "    return rand_indexes.mean()\n",
    "\n",
    "def buildModulesSubjects(graphs_subjects):\n",
    "    modules_subjects = []\n",
    "    for graph in graphs_subjects:\n",
    "        modules = community_louvain.best_partition(graph)\n",
    "        values = [v for n,v in modules.items()]\n",
    "        modules_subjects.append(values)\n",
    "    return modules_subjects\n",
    "\n",
    "def getGraphsSubjects(stage, i, graphs):\n",
    "    graphs_subjects = []\n",
    "    stageData = graphs[stage]\n",
    "    for subjectName, graphs in sorted(stageData.items()):\n",
    "        graphs_subjects.append(graphs[i])\n",
    "    return graphs_subjects\n",
    "\n",
    "def buildModules(i, graphsBySleepStage):\n",
    "    # Se construye un dictionary de modules_subjects por sleepStages\n",
    "    modules = {}\n",
    "    for stage in sleepStages:\n",
    "        graphs_subjects = getGraphsSubjects(stage, i, graphsBySleepStage)\n",
    "        modules_subjects = buildModulesSubjects(graphs_subjects)\n",
    "        modules[stage] = modules_subjects\n",
    "    return modules\n",
    "\n",
    "def rand_value(modulesByStage):\n",
    "    \n",
    "    # Se construye un dictionary de similarities por sleepStages    \n",
    "    similarities = {}\n",
    "    for stage in sleepStages:\n",
    "        modules_subjects = modulesByStage[stage]\n",
    "        within_group_similarity = calculateWithinGroupSimilarity(modules_subjects)\n",
    "        similarities[stage] = within_group_similarity\n",
    "    \n",
    "    # Se promedian cada uno de los nxStages con wakeStage\n",
    "    nxStagesSimilarities = {}\n",
    "    for nx in nxStages:\n",
    "        sim = np.vstack([similarities[wakeStage], similarities[nx]])\n",
    "        nxStagesSimilarities[nx] = (sim.mean(), sim.std())\n",
    "        \n",
    "    return nxStagesSimilarities\n",
    "    \n",
    "def rand_value_pair(wake_nx_modules_pair):\n",
    "    within_wake_similarity = calculateWithinGroupSimilarity(wake_nx_modules_pair[0])\n",
    "    within_nx_similarity = calculateWithinGroupSimilarity(wake_nx_modules_pair[1])\n",
    "    sim = np.vstack([within_wake_similarity, within_nx_similarity])\n",
    "    return (sim.mean(), sim.std())\n",
    "    "
   ]
  },
  {
   "cell_type": "code",
   "execution_count": 9,
   "metadata": {},
   "outputs": [],
   "source": [
    "from random import *\n",
    "\n",
    "randBinList = lambda n: [randint(0,1) for b in range(1, n + 1)]\n",
    "\n",
    "def randomizeModulesSubjects(modules_subjects):\n",
    "    comparisions = {}\n",
    "    for stageName, module in modules_subjects.items():\n",
    "        if stageName != wakeStage:\n",
    "            wake_subjects = modules_subjects[wakeStage]\n",
    "            nx_subjects = modules_subjects[stageName]\n",
    "            permutations = randBinList(len(wake_subjects))\n",
    "            for i in range(len(wake_subjects)):\n",
    "                if permutations[i] == 1:\n",
    "                    # swap\n",
    "                    temp = wake_subjects[i]\n",
    "                    wake_subjects[i] = nx_subjects[i]\n",
    "                    nx_subjects[i] = temp\n",
    "            comparisions[stageName] = (wake_subjects, nx_subjects)\n",
    "    return comparisions\n"
   ]
  },
  {
   "cell_type": "code",
   "execution_count": 10,
   "metadata": {},
   "outputs": [],
   "source": [
    "\n",
    "def calculateEmpiricDistribution(modulesByStage):\n",
    "    permutations_n1 = []\n",
    "    permutations_n2 = []\n",
    "    permutations_n3 = []\n",
    "    for i in range(number_of_permutations):\n",
    "        #print(\"permutation \" + str(i))\n",
    "        modules_permutados = randomizeModulesSubjects(modulesByStage)\n",
    "        for stageName, modules in modules_permutados.items():\n",
    "            results = rand_value_pair(modules)\n",
    "            if stageName == nxStages[0]:\n",
    "                permutations_n1.append(results)\n",
    "            if stageName == nxStages[1]:\n",
    "                permutations_n2.append(results)\n",
    "            if stageName == nxStages[2]:\n",
    "                permutations_n3.append(results)\n",
    "    return (permutations_n1, permutations_n2, permutations_n3)\n"
   ]
  },
  {
   "cell_type": "code",
   "execution_count": 11,
   "metadata": {},
   "outputs": [],
   "source": [
    "#plt.figure()\n",
    "#plt.hist(permutations_n1)"
   ]
  },
  {
   "cell_type": "code",
   "execution_count": 12,
   "metadata": {},
   "outputs": [],
   "source": [
    "def calculate_pvalue(dist, actual_value):\n",
    "    cant = 0\n",
    "    for i in range(len(dist)):\n",
    "        ri = dist[i]\n",
    "        if ri[0] > actual_value:\n",
    "            cant = cant + 1\n",
    "    return cant / number_of_permutations\n",
    "\n",
    "def calculate_mean_std_dist(dist):\n",
    "    means = [v[0] for v in dist]\n",
    "    means = np.vstack(means)\n",
    "    stds = [v[1] for v in dist]\n",
    "    stds = np.vstack(stds)\n",
    "    return (means.mean(), stds.std())"
   ]
  },
  {
   "cell_type": "code",
   "execution_count": 13,
   "metadata": {},
   "outputs": [],
   "source": [
    "def createSignificanceAxes(densities, p_values):\n",
    "    x = [densities[index] for index in  [i for i, x in enumerate(p_values) if x < 0.05]]\n",
    "    y = [0 for i in range(len(x))]\n",
    "    return (x, y)"
   ]
  },
  {
   "cell_type": "code",
   "execution_count": 14,
   "metadata": {},
   "outputs": [
    {
     "name": "stdout",
     "output_type": "stream",
     "text": [
      "density 0: 0.025\n",
      "density 1: 0.0353448275862069\n",
      "density 2: 0.045689655172413794\n",
      "density 3: 0.05603448275862069\n",
      "density 4: 0.06637931034482758\n",
      "density 5: 0.07672413793103448\n",
      "density 6: 0.08706896551724139\n",
      "density 7: 0.09741379310344828\n",
      "density 8: 0.10775862068965517\n",
      "density 9: 0.11810344827586206\n",
      "density 10: 0.12844827586206897\n",
      "density 11: 0.13879310344827586\n",
      "density 12: 0.14913793103448275\n",
      "density 13: 0.15948275862068964\n",
      "density 14: 0.16982758620689656\n",
      "density 15: 0.18017241379310345\n",
      "density 16: 0.19051724137931034\n",
      "density 17: 0.20086206896551723\n",
      "density 18: 0.21120689655172412\n",
      "density 19: 0.22155172413793103\n",
      "density 20: 0.23189655172413792\n",
      "density 21: 0.2422413793103448\n",
      "density 22: 0.25258620689655176\n",
      "density 23: 0.2629310344827586\n",
      "density 24: 0.27327586206896554\n",
      "density 25: 0.28362068965517245\n",
      "density 26: 0.2939655172413793\n",
      "density 27: 0.30431034482758623\n",
      "density 28: 0.31465517241379315\n",
      "density 29: 0.325\n"
     ]
    },
    {
     "data": {
      "image/png": "[encoded data removed]",
      "text/plain": [
       "<Figure size 720x720 with 3 Axes>"
      ]
     },
     "metadata": {
      "needs_background": "light"
     },
     "output_type": "display_data"
    }
   ],
   "source": [
    "plt.figure(figsize=(10,10))\n",
    "\n",
    "# Actual groups\n",
    "n1ag_means = []\n",
    "n2ag_means = []\n",
    "n3ag_means = []\n",
    "n1ag_stds = []\n",
    "n2ag_stds = []\n",
    "n3ag_stds = []\n",
    "\n",
    "n1rg_means = []\n",
    "n2rg_means = []\n",
    "n3rg_means = []\n",
    "n1rg_stds = []\n",
    "n2rg_stds = []\n",
    "n3rg_stds = []\n",
    "\n",
    "n1_pvalues = []\n",
    "n2_pvalues = []\n",
    "n3_pvalues = []\n",
    "\n",
    "for i, density in enumerate(densities):\n",
    "    \n",
    "    print(\"density \" + str(i) + \": \" + str(density))\n",
    "    \n",
    "    modulesByStage = buildModules(i, graphsBySleepStage)    \n",
    "    rands = rand_value(modulesByStage)\n",
    "    \n",
    "    n1ag_means.append(rands[nxStages[0]][0])\n",
    "    n2ag_means.append(rands[nxStages[1]][0])\n",
    "    n3ag_means.append(rands[nxStages[2]][0])\n",
    "    n1ag_stds.append(rands[nxStages[0]][1])\n",
    "    n2ag_stds.append(rands[nxStages[1]][1])\n",
    "    n3ag_stds.append(rands[nxStages[2]][1])\n",
    "    \n",
    "    distn1, distn2, distn3 = calculateEmpiricDistribution(modulesByStage)\n",
    "\n",
    "    n1_pvalues.append(calculate_pvalue(distn1, n1ag_means[i]))\n",
    "    n2_pvalues.append(calculate_pvalue(distn2, n2ag_means[i]))\n",
    "    n3_pvalues.append(calculate_pvalue(distn3, n2ag_means[i]))\n",
    "\n",
    "    mean, std = calculate_mean_std_dist(distn1)\n",
    "    n1rg_means.append(mean)\n",
    "    n1rg_stds.append(std)\n",
    "\n",
    "    mean, std = calculate_mean_std_dist(distn2)\n",
    "    n2rg_means.append(mean)\n",
    "    n2rg_stds.append(std)\n",
    "    \n",
    "    mean, std = calculate_mean_std_dist(distn3)\n",
    "    n3rg_means.append(mean)\n",
    "    n3rg_stds.append(std)    \n",
    "\n",
    "plt.subplot(2,2,1)\n",
    "plt.errorbar(densities, n1ag_means, n1ag_stds, label = \"Actual groups\")\n",
    "plt.errorbar(densities, n1rg_means, n1rg_stds, label = \"Randomized groups\")\n",
    "significance_x, significance_y = createSignificanceAxes(densities, n1_pvalues)\n",
    "plt.scatter(significance_x, significance_y, c='black', marker=(5, 2))\n",
    "plt.title(nxStages[0])\n",
    "plt.legend()\n",
    "plt.ylabel('Rand Index <RI>');\n",
    "\n",
    "plt.subplot(2,2,2)\n",
    "plt.errorbar(densities, n2ag_means, n2ag_stds, label = \"Actual groups\")\n",
    "plt.errorbar(densities, n2rg_means, n2rg_stds, label = \"Randomized groups\")\n",
    "significance_x, significance_y = createSignificanceAxes(densities, n2_pvalues)\n",
    "plt.scatter(significance_x, significance_y, c='black', marker=(5, 2))\n",
    "plt.title(nxStages[1])\n",
    "plt.legend()\n",
    "plt.ylabel('Rand Index <RI>');\n",
    "\n",
    "plt.subplot(2,2,3)\n",
    "plt.errorbar(densities, n3ag_means, n3ag_stds, label = \"Actual groups\")\n",
    "plt.errorbar(densities, n3rg_means, n3rg_stds, label = \"Randomized groups\")\n",
    "significance_x, significance_y = createSignificanceAxes(densities, n3_pvalues)\n",
    "plt.scatter(significance_x, significance_y, c='black', marker=(5, 2))\n",
    "plt.xlabel('Edges density')\n",
    "plt.title(nxStages[2])\n",
    "plt.legend()\n",
    "plt.ylabel('Rand Index <RI>');"
   ]
  },
  {
   "cell_type": "code",
   "execution_count": 15,
   "metadata": {},
   "outputs": [
    {
     "data": {
      "text/plain": [
       "[0.768,\n",
       " 0.414,\n",
       " 0.864,\n",
       " 0.974,\n",
       " 0.842,\n",
       " 0.739,\n",
       " 0.855,\n",
       " 0.79,\n",
       " 0.709,\n",
       " 0.729,\n",
       " 0.775,\n",
       " 0.645,\n",
       " 0.686,\n",
       " 0.449,\n",
       " 0.609,\n",
       " 0.72,\n",
       " 0.383,\n",
       " 0.675,\n",
       " 0.524,\n",
       " 0.502,\n",
       " 0.472,\n",
       " 0.3,\n",
       " 0.632,\n",
       " 0.501,\n",
       " 0.511,\n",
       " 0.532,\n",
       " 0.39,\n",
       " 0.392,\n",
       " 0.118,\n",
       " 0.211]"
      ]
     },
     "execution_count": 15,
     "metadata": {},
     "output_type": "execute_result"
    }
   ],
   "source": [
    "n1_pvalues"
   ]
  },
  {
   "cell_type": "code",
   "execution_count": 16,
   "metadata": {},
   "outputs": [
    {
     "data": {
      "text/plain": [
       "[0.002,\n",
       " 0.016,\n",
       " 0.05,\n",
       " 0.069,\n",
       " 0.069,\n",
       " 0.069,\n",
       " 0.171,\n",
       " 0.188,\n",
       " 0.297,\n",
       " 0.051,\n",
       " 0.131,\n",
       " 0.07,\n",
       " 0.064,\n",
       " 0.022,\n",
       " 0.04,\n",
       " 0.044,\n",
       " 0.055,\n",
       " 0.055,\n",
       " 0.085,\n",
       " 0.115,\n",
       " 0.027,\n",
       " 0.022,\n",
       " 0.102,\n",
       " 0.052,\n",
       " 0.029,\n",
       " 0.023,\n",
       " 0.047,\n",
       " 0.026,\n",
       " 0.085,\n",
       " 0.027]"
      ]
     },
     "execution_count": 16,
     "metadata": {},
     "output_type": "execute_result"
    }
   ],
   "source": [
    "n2_pvalues"
   ]
  },
  {
   "cell_type": "code",
   "execution_count": 17,
   "metadata": {},
   "outputs": [
    {
     "data": {
      "text/plain": [
       "[0.0,\n",
       " 0.011,\n",
       " 0.052,\n",
       " 0.058,\n",
       " 0.08,\n",
       " 0.061,\n",
       " 0.168,\n",
       " 0.151,\n",
       " 0.275,\n",
       " 0.061,\n",
       " 0.134,\n",
       " 0.071,\n",
       " 0.074,\n",
       " 0.01,\n",
       " 0.04,\n",
       " 0.051,\n",
       " 0.063,\n",
       " 0.037,\n",
       " 0.105,\n",
       " 0.109,\n",
       " 0.037,\n",
       " 0.031,\n",
       " 0.134,\n",
       " 0.044,\n",
       " 0.035,\n",
       " 0.021,\n",
       " 0.042,\n",
       " 0.023,\n",
       " 0.068,\n",
       " 0.014]"
      ]
     },
     "execution_count": 17,
     "metadata": {},
     "output_type": "execute_result"
    }
   ],
   "source": [
    "n3_pvalues"
   ]
  },
  {
   "cell_type": "code",
   "execution_count": 18,
   "metadata": {},
   "outputs": [
    {
     "data": {
      "text/plain": [
       "[1, 1, 1, 1, 1, 1, 1, 1, 1, 0, 0, 0, 0, 0, 0, 0, 0, 0]"
      ]
     },
     "execution_count": 18,
     "metadata": {},
     "output_type": "execute_result"
    }
   ],
   "source": [
    "randBinList(len(subjects))"
   ]
  },
  {
   "cell_type": "code",
   "execution_count": 19,
   "metadata": {},
   "outputs": [
    {
     "data": {
      "text/plain": [
       "[0, 0, 1, 0, 1, 0, 1, 1, 0, 0, 0, 0, 1, 0, 0, 1, 1, 1]"
      ]
     },
     "execution_count": 19,
     "metadata": {},
     "output_type": "execute_result"
    }
   ],
   "source": [
    "randBinList(len(subjects))"
   ]
  },
  {
   "cell_type": "code",
   "execution_count": 20,
   "metadata": {},
   "outputs": [
    {
     "data": {
      "text/plain": [
       "[0, 0, 0, 0, 1, 0, 0, 1, 1, 0, 0, 1, 0, 1, 0, 1, 0, 0]"
      ]
     },
     "execution_count": 20,
     "metadata": {},
     "output_type": "execute_result"
    }
   ],
   "source": [
    "randBinList(len(subjects))"
   ]
  }
 ],
 "metadata": {
  "kernelspec": {
   "display_name": "Python 3",
   "language": "python",
   "name": "python3"
  },
  "language_info": {
   "codemirror_mode": {
    "name": "ipython",
    "version": 3
   },
   "file_extension": ".py",
   "mimetype": "text/x-python",
   "name": "python",
   "nbconvert_exporter": "python",
   "pygments_lexer": "ipython3",
   "version": "3.7.3"
  }
 },
 "nbformat": 4,
 "nbformat_minor": 2
}
