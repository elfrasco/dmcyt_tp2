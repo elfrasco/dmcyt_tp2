{
 "cells": [
  {
   "cell_type": "code",
   "execution_count": 1,
   "metadata": {},
   "outputs": [],
   "source": [
    "# Para visualización en notebook\n",
    "%matplotlib inline\n",
    "import matplotlib.pyplot as plt\n",
    "import matplotlib as mpl\n",
    "mpl.rcParams['figure.figsize'] = (8,6)\n",
    "mpl.rcParams['font.size'] = 22\n",
    "import seaborn as sns\n",
    "\n",
    "# Números y Datos\n",
    "import numpy as np\n",
    "import pandas as pd\n",
    "\n",
    "import networkx as nx\n",
    "\n",
    "from glob import glob\n",
    "from pathlib import Path"
   ]
  },
  {
   "cell_type": "code",
   "execution_count": 2,
   "metadata": {},
   "outputs": [
    {
     "name": "stdout",
     "output_type": "stream",
     "text": [
      "Nro de archivos = 72\n",
      "Nro de sujetos = 18\n",
      "Nro de estadios = 4\n",
      "sleepStages = {'W', 'N3', 'N1', 'N2'}\n",
      "sleepStagesOrdered = ('W', 'N1', 'N2', 'N3')\n"
     ]
    }
   ],
   "source": [
    "filenames = glob('DataSujetos/*.csv')\n",
    "df = pd.read_csv(filenames[0], header=-1)\n",
    "n = df.shape[0]\n",
    "df -= np.diag(np.ones(n))\n",
    "\n",
    "print(\"Nro de archivos = \" + str(len(filenames)))\n",
    "subjects = set()\n",
    "sleepStages = set()\n",
    "for filename in filenames:\n",
    "        subjects.add(filename[filename.index('_') + 1:-4])\n",
    "        sleepStages.add(filename[filename.index('/') + 1: filename.index('_')])\n",
    "print(\"Nro de sujetos = \" + str(len(subjects)))\n",
    "print(\"Nro de estadios = \" + str(len(sleepStages)))\n",
    "\n",
    "sleepStagesOrdered = (\"W\", \"N1\", \"N2\", \"N3\")\n",
    "\n",
    "print(\"sleepStages = \" + str(sleepStages))\n",
    "print(\"sleepStagesOrdered = \" + str(sleepStagesOrdered))"
   ]
  },
  {
   "cell_type": "code",
   "execution_count": 3,
   "metadata": {},
   "outputs": [],
   "source": [
    "#Toma un archivo csv con la matriz de input y devuelve una lista de grafos con la densidad de aristas correspondiente\n",
    "def subjectmatrix2graphslist(filename, densities):\n",
    "    correlation_matrix = pd.read_csv(filename, header=-1)\n",
    "    n = correlation_matrix.shape[0]\n",
    "    n2m1 = (n*n-1)\n",
    "    correlation_matrix -= np.diag(np.ones(n))\n",
    "    sorted_correlations = sorted(correlation_matrix.values.flatten(),reverse=True)\n",
    "    \n",
    "    Gs = []\n",
    "    for d in densities:\n",
    "        idx = int(d*n2m1)\n",
    "        threshold = sorted_correlations[idx]\n",
    "        Gs.append(nx.from_pandas_adjacency(correlation_matrix>=threshold))\n",
    "        \n",
    "    return Gs\n",
    "\n",
    "def graphslistBySleepStage(sleepStage, densities):\n",
    "    filenames = glob('DataSujetos/%s_*.csv' % sleepStage)\n",
    "    graphs = {}\n",
    "    for filename in filenames:\n",
    "        Gs = subjectmatrix2graphslist(filename, densities)\n",
    "        name = Path(filename).stem\n",
    "        graphs[name] = Gs\n",
    "    return graphs    \n",
    "    \n",
    "    \n",
    "densities = np.linspace(0.025,1,50)\n",
    "\n",
    "graphsBySleepStage = {}\n",
    "\n",
    "#se arma una mapa por estadio de sueño con los grafos de cada individuo\n",
    "for sleepStage in sleepStages: \n",
    "    graphsBySleepStage[sleepStage] = graphslistBySleepStage(sleepStage, densities)\n",
    "\n"
   ]
  },
  {
   "cell_type": "markdown",
   "metadata": {},
   "source": [
    "# Tarea 4: Diferencias en la membresía para los diferentes estadíos"
   ]
  },
  {
   "cell_type": "markdown",
   "metadata": {},
   "source": [
    "Para identificar diferencias significativas globales en la membresía de los nodos entre los distintos estadíos del sueño (N1, N2 y N3), con el estadio despierto (W) se propone seguir el procedimiento propuesto por Alexander-Bloch y colaboradores [Alexander-Bloch et al., 2012].\n",
    "\n",
    "Se quiere saber si las comunidades encontradas en un estadio de sueño N X y las encontradas en el cerebro despierto W son similares.\n",
    "\n",
    "1. Se toman para todos los pares de sujetos en N X el Índice de Rand ajustado (adjusted-for-chance Rand index).\n",
    "2. Se toman para todos los pares de sujetos en W el Índice de Rand ajustado (adjusted-for-chance Rand index).\n",
    "3. Se promedian y se obtiene el Índice de Rand ajustado \"within-group\" observado (RIo). Se lo graficar junto al error estandar de la media.\n",
    "4. Se aleatorizan las etiquetas de los parece NX-W de forma que siempre esten todos los sujetos en cada grupo pero con las etiquetas cambiadas, y se repiten los pasos 1-3 de forma de obtener un Índice de Rand ajustado \"within-group\" permutado (RIp). Este paso se repite N p veces generando una distribución empirica de valores de valores RIp.\n",
    "5. El p-valor se calcula como la cantidad de permutaciones que dieron RIp > RIo divido Np."
   ]
  },
  {
   "cell_type": "code",
   "execution_count": 4,
   "metadata": {},
   "outputs": [],
   "source": [
    "from community import community_louvain"
   ]
  },
  {
   "cell_type": "code",
   "execution_count": 5,
   "metadata": {},
   "outputs": [],
   "source": [
    "from sklearn.metrics import adjusted_rand_score"
   ]
  },
  {
   "cell_type": "code",
   "execution_count": 6,
   "metadata": {},
   "outputs": [],
   "source": [
    "number_of_permutations = 1000\n",
    "wakeStage = sleepStagesOrdered[0]\n",
    "nxStages = (sleepStagesOrdered[1], sleepStagesOrdered[2], sleepStagesOrdered[3])\n",
    "\n",
    "def calculateWithinGroupSimilarity(modules_subjects):\n",
    "    rand_indexes = []\n",
    "    cant_subjects = len(modules_subjects)\n",
    "    for i in range(0, cant_subjects - 1):\n",
    "        for j in range(i + 1, cant_subjects):\n",
    "            rand_index = adjusted_rand_score(modules_subjects[i], modules_subjects[j])\n",
    "            rand_indexes.append(rand_index)\n",
    "    rand_indexes = np.vstack(rand_indexes)\n",
    "    return rand_indexes.mean()\n",
    "\n",
    "def buildModulesSubjects(graphs_subjects):\n",
    "    modules_subjects = []\n",
    "    for graph in graphs_subjects:\n",
    "        modules = community_louvain.best_partition(graph)\n",
    "        values = [v for n,v in modules.items()]\n",
    "        modules_subjects.append(values)\n",
    "    return modules_subjects\n",
    "\n",
    "def getGraphsSubjects(stage, i, graphs):\n",
    "    graphs_subjects = []\n",
    "    stageData = graphs[stage]\n",
    "    for subjectName, graphs in sorted(stageData.items()):\n",
    "        graphs_subjects.append(graphs[i])\n",
    "    return graphs_subjects\n",
    "\n",
    "def buildModules(i, graphsBySleepStage):\n",
    "    # Se construye un dictionary de modules_subjects por sleepStages\n",
    "    modules = {}\n",
    "    for stage in sleepStages:\n",
    "        graphs_subjects = getGraphsSubjects(stage, i, graphsBySleepStage)\n",
    "        modules_subjects = buildModulesSubjects(graphs_subjects)\n",
    "        modules[stage] = modules_subjects\n",
    "    return modules\n",
    "\n",
    "def rand_value(modulesByStage):\n",
    "    \n",
    "    # Se construye un dictionary de similarities por sleepStages    \n",
    "    similarities = {}\n",
    "    for stage in sleepStages:\n",
    "        modules_subjects = modulesByStage[stage]\n",
    "        within_group_similarity = calculateWithinGroupSimilarity(modules_subjects)\n",
    "        similarities[stage] = within_group_similarity\n",
    "    \n",
    "    # Se promedian cada uno de los nxStages con wakeStage\n",
    "    nxStagesSimilarities = {}\n",
    "    for nx in nxStages:\n",
    "        sim = np.vstack([similarities[wakeStage], similarities[nx]])\n",
    "        nxStagesSimilarities[nx] = (sim.mean(), sim.std())\n",
    "        \n",
    "    return nxStagesSimilarities\n",
    "    \n",
    "def rand_value_pair(wake_nx_modules_pair):\n",
    "    within_wake_similarity = calculateWithinGroupSimilarity(wake_nx_modules_pair[0])\n",
    "    within_nx_similarity = calculateWithinGroupSimilarity(wake_nx_modules_pair[1])\n",
    "    sim = np.vstack([within_wake_similarity, within_nx_similarity])\n",
    "    return (sim.mean(), sim.std())\n",
    "    "
   ]
  },
  {
   "cell_type": "code",
   "execution_count": 7,
   "metadata": {},
   "outputs": [],
   "source": [
    "from random import *\n",
    "\n",
    "randBinList = lambda n: [randint(0,1) for b in range(1, n + 1)]\n",
    "\n",
    "def randomizeModulesSubjects(modules_subjects):\n",
    "    comparisions = {}\n",
    "    for stageName, module in modules_subjects.items():\n",
    "        if stageName != wakeStage:\n",
    "            wake_subjects = modules_subjects[wakeStage]\n",
    "            nx_subjects = modules_subjects[stageName]\n",
    "            permutations = randBinList(len(wake_subjects))\n",
    "            for i in range(len(wake_subjects)):\n",
    "                if permutations[i] == 1:\n",
    "                    # swap\n",
    "                    temp = wake_subjects[i]\n",
    "                    wake_subjects[i] = nx_subjects[i]\n",
    "                    nx_subjects[i] = temp\n",
    "            comparisions[stageName] = (wake_subjects, nx_subjects)\n",
    "    return comparisions\n"
   ]
  },
  {
   "cell_type": "code",
   "execution_count": 8,
   "metadata": {},
   "outputs": [],
   "source": [
    "\n",
    "def calculateEmpiricDistribution(modulesByStage):\n",
    "    permutations_n1 = []\n",
    "    permutations_n2 = []\n",
    "    permutations_n3 = []\n",
    "    for i in range(number_of_permutations):\n",
    "        #print(\"permutation \" + str(i))\n",
    "        modules_permutados = randomizeModulesSubjects(modulesByStage)\n",
    "        for stageName, modules in modules_permutados.items():\n",
    "            results = rand_value_pair(modules)\n",
    "            if stageName == nxStages[0]:\n",
    "                permutations_n1.append(results)\n",
    "            if stageName == nxStages[1]:\n",
    "                permutations_n2.append(results)\n",
    "            if stageName == nxStages[2]:\n",
    "                permutations_n3.append(results)\n",
    "    return (permutations_n1, permutations_n2, permutations_n3)\n"
   ]
  },
  {
   "cell_type": "code",
   "execution_count": 9,
   "metadata": {},
   "outputs": [],
   "source": [
    "#plt.figure()\n",
    "#plt.hist(permutations_n1)"
   ]
  },
  {
   "cell_type": "code",
   "execution_count": 10,
   "metadata": {},
   "outputs": [],
   "source": [
    "def calculate_pvalue(dist, actual_value):\n",
    "    cant = 0\n",
    "    for i in range(len(dist)):\n",
    "        ri = dist[i]\n",
    "        if ri[0] > actual_value:\n",
    "            cant = cant + 1\n",
    "    return cant / number_of_permutations\n",
    "\n",
    "def calculate_mean_std_dist(dist):\n",
    "    means = [v[0] for v in dist]\n",
    "    means = np.vstack(means)\n",
    "    stds = [v[1] for v in dist]\n",
    "    stds = np.vstack(stds)\n",
    "    return (means.mean(), stds.std())"
   ]
  },
  {
   "cell_type": "code",
   "execution_count": 11,
   "metadata": {},
   "outputs": [],
   "source": [
    "def createSignificanceAxes(densities, p_values):\n",
    "    x = [densities[index] for index in  [i for i, x in enumerate(p_values) if x < 0.05]]\n",
    "    y = [0 for i in range(len(x))]\n",
    "    return (x, y)"
   ]
  },
  {
   "cell_type": "code",
   "execution_count": 12,
   "metadata": {},
   "outputs": [
    {
     "name": "stdout",
     "output_type": "stream",
     "text": [
      "density 0: 0.025\n",
      "density 1: 0.044897959183673466\n",
      "density 2: 0.06479591836734694\n",
      "density 3: 0.0846938775510204\n",
      "density 4: 0.10459183673469388\n",
      "density 5: 0.12448979591836734\n",
      "density 6: 0.1443877551020408\n",
      "density 7: 0.16428571428571428\n",
      "density 8: 0.18418367346938774\n",
      "density 9: 0.2040816326530612\n",
      "density 10: 0.2239795918367347\n",
      "density 11: 0.24387755102040815\n",
      "density 12: 0.26377551020408163\n",
      "density 13: 0.2836734693877551\n",
      "density 14: 0.3035714285714286\n",
      "density 15: 0.32346938775510203\n",
      "density 16: 0.3433673469387755\n",
      "density 17: 0.363265306122449\n",
      "density 18: 0.38316326530612244\n",
      "density 19: 0.4030612244897959\n",
      "density 20: 0.4229591836734694\n",
      "density 21: 0.44285714285714284\n",
      "density 22: 0.4627551020408163\n",
      "density 23: 0.4826530612244898\n",
      "density 24: 0.5025510204081632\n",
      "density 25: 0.5224489795918367\n",
      "density 26: 0.5423469387755102\n",
      "density 27: 0.5622448979591836\n",
      "density 28: 0.5821428571428572\n",
      "density 29: 0.6020408163265306\n",
      "density 30: 0.621938775510204\n",
      "density 31: 0.6418367346938776\n",
      "density 32: 0.661734693877551\n",
      "density 33: 0.6816326530612244\n",
      "density 34: 0.701530612244898\n",
      "density 35: 0.7214285714285714\n",
      "density 36: 0.7413265306122448\n",
      "density 37: 0.7612244897959184\n",
      "density 38: 0.7811224489795918\n",
      "density 39: 0.8010204081632653\n",
      "density 40: 0.8209183673469388\n",
      "density 41: 0.8408163265306122\n",
      "density 42: 0.8607142857142857\n",
      "density 43: 0.8806122448979592\n",
      "density 44: 0.9005102040816326\n",
      "density 45: 0.9204081632653061\n",
      "density 46: 0.9403061224489796\n",
      "density 47: 0.960204081632653\n",
      "density 48: 0.9801020408163265\n",
      "density 49: 1.0\n"
     ]
    },
    {
     "data": {
      "image/png": "[encoded data removed]",
      "text/plain": [
       "<Figure size 1440x720 with 3 Axes>"
      ]
     },
     "metadata": {
      "needs_background": "light"
     },
     "output_type": "display_data"
    }
   ],
   "source": [
    "plt.figure(figsize=(20,10))\n",
    "\n",
    "# Actual groups\n",
    "n1ag_means = []\n",
    "n2ag_means = []\n",
    "n3ag_means = []\n",
    "n1ag_stds = []\n",
    "n2ag_stds = []\n",
    "n3ag_stds = []\n",
    "\n",
    "n1rg_means = []\n",
    "n2rg_means = []\n",
    "n3rg_means = []\n",
    "n1rg_stds = []\n",
    "n2rg_stds = []\n",
    "n3rg_stds = []\n",
    "\n",
    "n1_pvalues = []\n",
    "n2_pvalues = []\n",
    "n3_pvalues = []\n",
    "\n",
    "for i, density in enumerate(densities):\n",
    "    \n",
    "    print(\"density \" + str(i) + \": \" + str(density))\n",
    "    \n",
    "    modulesByStage = buildModules(i, graphsBySleepStage)    \n",
    "    rands = rand_value(modulesByStage)\n",
    "    \n",
    "    n1ag_means.append(rands[nxStages[0]][0])\n",
    "    n2ag_means.append(rands[nxStages[1]][0])\n",
    "    n3ag_means.append(rands[nxStages[2]][0])\n",
    "    n1ag_stds.append(rands[nxStages[0]][1])\n",
    "    n2ag_stds.append(rands[nxStages[1]][1])\n",
    "    n3ag_stds.append(rands[nxStages[2]][1])\n",
    "    \n",
    "    distn1, distn2, distn3 = calculateEmpiricDistribution(modulesByStage)\n",
    "\n",
    "    n1_pvalues.append(calculate_pvalue(distn1, n1ag_means[i]))\n",
    "    n2_pvalues.append(calculate_pvalue(distn2, n2ag_means[i]))\n",
    "    n3_pvalues.append(calculate_pvalue(distn3, n2ag_means[i]))\n",
    "\n",
    "    mean, std = calculate_mean_std_dist(distn1)\n",
    "    n1rg_means.append(mean)\n",
    "    n1rg_stds.append(std)\n",
    "\n",
    "    mean, std = calculate_mean_std_dist(distn2)\n",
    "    n2rg_means.append(mean)\n",
    "    n2rg_stds.append(std)\n",
    "    \n",
    "    mean, std = calculate_mean_std_dist(distn3)\n",
    "    n3rg_means.append(mean)\n",
    "    n3rg_stds.append(std)    \n",
    "\n",
    "plt.subplot(2,2,1)\n",
    "plt.errorbar(densities, n1ag_means, n1ag_stds, label = \"Actual groups\")\n",
    "plt.errorbar(densities, n1rg_means, n1rg_stds, label = \"Randomized groups\")\n",
    "significance_x, significance_y = createSignificanceAxes(densities, n1_pvalues)\n",
    "plt.scatter(significance_x, significance_y, c='black', marker=(5, 2))\n",
    "plt.title(nxStages[0])\n",
    "plt.legend()\n",
    "plt.ylabel('Rand Index <RI>');\n",
    "\n",
    "plt.subplot(2,2,2)\n",
    "plt.errorbar(densities, n2ag_means, n2ag_stds, label = \"Actual groups\")\n",
    "plt.errorbar(densities, n2rg_means, n2rg_stds, label = \"Randomized groups\")\n",
    "significance_x, significance_y = createSignificanceAxes(densities, n2_pvalues)\n",
    "plt.scatter(significance_x, significance_y, c='black', marker=(5, 2))\n",
    "plt.title(nxStages[1])\n",
    "plt.legend()\n",
    "plt.ylabel('Rand Index <RI>');\n",
    "\n",
    "plt.subplot(2,2,3)\n",
    "plt.errorbar(densities, n3ag_means, n3ag_stds, label = \"Actual groups\")\n",
    "plt.errorbar(densities, n3rg_means, n3rg_stds, label = \"Randomized groups\")\n",
    "significance_x, significance_y = createSignificanceAxes(densities, n3_pvalues)\n",
    "plt.scatter(significance_x, significance_y, c='black', marker=(5, 2))\n",
    "plt.xlabel('Edges density')\n",
    "plt.title(nxStages[2])\n",
    "plt.legend()\n",
    "plt.ylabel('Rand Index <RI>');"
   ]
  },
  {
   "cell_type": "code",
   "execution_count": 13,
   "metadata": {},
   "outputs": [
    {
     "data": {
      "text/plain": [
       "[0.615,\n",
       " 0.708,\n",
       " 0.877,\n",
       " 0.862,\n",
       " 0.86,\n",
       " 0.496,\n",
       " 0.774,\n",
       " 0.631,\n",
       " 0.617,\n",
       " 0.707,\n",
       " 0.643,\n",
       " 0.61,\n",
       " 0.514,\n",
       " 0.475,\n",
       " 0.364,\n",
       " 0.429,\n",
       " 0.32,\n",
       " 0.151,\n",
       " 0.37,\n",
       " 0.392,\n",
       " 0.199,\n",
       " 0.152,\n",
       " 0.198,\n",
       " 0.335,\n",
       " 0.328,\n",
       " 0.23,\n",
       " 0.285,\n",
       " 0.29,\n",
       " 0.369,\n",
       " 0.512,\n",
       " 0.285,\n",
       " 0.238,\n",
       " 0.161,\n",
       " 0.255,\n",
       " 0.365,\n",
       " 0.23,\n",
       " 0.28,\n",
       " 0.258,\n",
       " 0.28,\n",
       " 0.197,\n",
       " 0.166,\n",
       " 0.286,\n",
       " 0.297,\n",
       " 0.557,\n",
       " 0.408,\n",
       " 0.725,\n",
       " 0.627,\n",
       " 0.858,\n",
       " 0.809,\n",
       " 0.0]"
      ]
     },
     "execution_count": 13,
     "metadata": {},
     "output_type": "execute_result"
    }
   ],
   "source": [
    "n1_pvalues"
   ]
  },
  {
   "cell_type": "code",
   "execution_count": 14,
   "metadata": {},
   "outputs": [
    {
     "data": {
      "text/plain": [
       "[0.013,\n",
       " 0.093,\n",
       " 0.186,\n",
       " 0.141,\n",
       " 0.156,\n",
       " 0.168,\n",
       " 0.151,\n",
       " 0.035,\n",
       " 0.023,\n",
       " 0.077,\n",
       " 0.027,\n",
       " 0.114,\n",
       " 0.047,\n",
       " 0.031,\n",
       " 0.049,\n",
       " 0.106,\n",
       " 0.059,\n",
       " 0.024,\n",
       " 0.057,\n",
       " 0.027,\n",
       " 0.033,\n",
       " 0.051,\n",
       " 0.045,\n",
       " 0.057,\n",
       " 0.174,\n",
       " 0.045,\n",
       " 0.23,\n",
       " 0.166,\n",
       " 0.155,\n",
       " 0.196,\n",
       " 0.372,\n",
       " 0.326,\n",
       " 0.355,\n",
       " 0.531,\n",
       " 0.663,\n",
       " 0.579,\n",
       " 0.663,\n",
       " 0.592,\n",
       " 0.515,\n",
       " 0.494,\n",
       " 0.491,\n",
       " 0.456,\n",
       " 0.502,\n",
       " 0.451,\n",
       " 0.422,\n",
       " 0.394,\n",
       " 0.621,\n",
       " 0.504,\n",
       " 0.524,\n",
       " 0.0]"
      ]
     },
     "execution_count": 14,
     "metadata": {},
     "output_type": "execute_result"
    }
   ],
   "source": [
    "n2_pvalues"
   ]
  },
  {
   "cell_type": "code",
   "execution_count": 15,
   "metadata": {},
   "outputs": [
    {
     "data": {
      "text/plain": [
       "[0.013,\n",
       " 0.071,\n",
       " 0.16,\n",
       " 0.165,\n",
       " 0.153,\n",
       " 0.156,\n",
       " 0.164,\n",
       " 0.028,\n",
       " 0.023,\n",
       " 0.08,\n",
       " 0.037,\n",
       " 0.096,\n",
       " 0.048,\n",
       " 0.038,\n",
       " 0.05,\n",
       " 0.085,\n",
       " 0.066,\n",
       " 0.026,\n",
       " 0.058,\n",
       " 0.036,\n",
       " 0.05,\n",
       " 0.046,\n",
       " 0.034,\n",
       " 0.048,\n",
       " 0.193,\n",
       " 0.062,\n",
       " 0.207,\n",
       " 0.128,\n",
       " 0.196,\n",
       " 0.184,\n",
       " 0.387,\n",
       " 0.276,\n",
       " 0.341,\n",
       " 0.579,\n",
       " 0.675,\n",
       " 0.579,\n",
       " 0.64,\n",
       " 0.633,\n",
       " 0.528,\n",
       " 0.438,\n",
       " 0.496,\n",
       " 0.404,\n",
       " 0.479,\n",
       " 0.43,\n",
       " 0.415,\n",
       " 0.411,\n",
       " 0.652,\n",
       " 0.453,\n",
       " 0.551,\n",
       " 0.0]"
      ]
     },
     "execution_count": 15,
     "metadata": {},
     "output_type": "execute_result"
    }
   ],
   "source": [
    "n3_pvalues"
   ]
  },
  {
   "cell_type": "code",
   "execution_count": 18,
   "metadata": {},
   "outputs": [
    {
     "data": {
      "text/plain": [
       "[1, 1, 1, 0, 1, 0, 0, 0, 1, 1, 1, 1, 1, 1, 0, 0, 0, 1]"
      ]
     },
     "execution_count": 18,
     "metadata": {},
     "output_type": "execute_result"
    }
   ],
   "source": [
    "randBinList(len(subjects))"
   ]
  },
  {
   "cell_type": "code",
   "execution_count": 20,
   "metadata": {},
   "outputs": [
    {
     "data": {
      "text/plain": [
       "[0, 0, 0, 1, 1, 0, 1, 0, 1, 0, 1, 1, 1, 0, 1, 1, 1, 1]"
      ]
     },
     "execution_count": 20,
     "metadata": {},
     "output_type": "execute_result"
    }
   ],
   "source": [
    "randBinList(len(subjects))"
   ]
  },
  {
   "cell_type": "code",
   "execution_count": 21,
   "metadata": {},
   "outputs": [
    {
     "data": {
      "text/plain": [
       "[1, 0, 1, 1, 1, 1, 0, 0, 0, 1, 0, 1, 0, 1, 1, 0, 1, 1]"
      ]
     },
     "execution_count": 21,
     "metadata": {},
     "output_type": "execute_result"
    }
   ],
   "source": [
    "randBinList(len(subjects))"
   ]
  }
 ],
 "metadata": {
  "kernelspec": {
   "display_name": "Python 3",
   "language": "python",
   "name": "python3"
  },
  "language_info": {
   "codemirror_mode": {
    "name": "ipython",
    "version": 3
   },
   "file_extension": ".py",
   "mimetype": "text/x-python",
   "name": "python",
   "nbconvert_exporter": "python",
   "pygments_lexer": "ipython3",
   "version": "3.7.3"
  }
 },
 "nbformat": 4,
 "nbformat_minor": 2
}
