{
 "cells": [
  {
   "cell_type": "code",
   "execution_count": 1,
   "metadata": {},
   "outputs": [],
   "source": [
    "# Para visualización en notebook\n",
    "%matplotlib inline\n",
    "import matplotlib.pyplot as plt\n",
    "import matplotlib as mpl\n",
    "mpl.rcParams['figure.figsize'] = (8,6)\n",
    "mpl.rcParams['font.size'] = 22\n",
    "import seaborn as sns\n",
    "\n",
    "# Números y Datos\n",
    "import numpy as np\n",
    "import pandas as pd\n",
    "\n",
    "import networkx as nx\n",
    "\n",
    "from glob import glob\n",
    "from pathlib import Path"
   ]
  },
  {
   "cell_type": "code",
   "execution_count": 2,
   "metadata": {},
   "outputs": [
    {
     "name": "stdout",
     "output_type": "stream",
     "text": [
      "Nro de archivos = 72\n",
      "Nro de sujetos = 18\n",
      "Nro de estadios = 4\n",
      "sleepStages = {'N1', 'W', 'N2', 'N3'}\n",
      "sleepStagesOrdered = ('W', 'N1', 'N2', 'N3')\n"
     ]
    }
   ],
   "source": [
    "filenames = glob('DataSujetos/*.csv')\n",
    "df = pd.read_csv(filenames[0], header=-1)\n",
    "n = df.shape[0]\n",
    "df -= np.diag(np.ones(n))\n",
    "\n",
    "print(\"Nro de archivos = \" + str(len(filenames)))\n",
    "subjects = set()\n",
    "sleepStages = set()\n",
    "for filename in filenames:\n",
    "        subjects.add(filename[filename.index('_') + 1:-4])\n",
    "        sleepStages.add(filename[filename.index('/') + 1: filename.index('_')])\n",
    "print(\"Nro de sujetos = \" + str(len(subjects)))\n",
    "print(\"Nro de estadios = \" + str(len(sleepStages)))\n",
    "\n",
    "sleepStagesOrdered = (\"W\", \"N1\", \"N2\", \"N3\")\n",
    "\n",
    "print(\"sleepStages = \" + str(sleepStages))\n",
    "print(\"sleepStagesOrdered = \" + str(sleepStagesOrdered))"
   ]
  },
  {
   "cell_type": "code",
   "execution_count": 3,
   "metadata": {},
   "outputs": [],
   "source": [
    "#Toma un archivo csv con la matriz de input y devuelve una lista de grafos con la densidad de aristas correspondiente\n",
    "def subjectmatrix2graphslist(filename, densities):\n",
    "    correlation_matrix = pd.read_csv(filename, header=-1)\n",
    "    n = correlation_matrix.shape[0]\n",
    "    n2m1 = (n*n-1)\n",
    "    correlation_matrix -= np.diag(np.ones(n))\n",
    "    sorted_correlations = sorted(correlation_matrix.values.flatten(),reverse=True)\n",
    "    \n",
    "    Gs = []\n",
    "    for d in densities:\n",
    "        idx = int(d*n2m1)\n",
    "        threshold = sorted_correlations[idx]\n",
    "        Gs.append(nx.from_pandas_adjacency(correlation_matrix>=threshold))\n",
    "        \n",
    "    return Gs\n",
    "\n",
    "def graphslistBySleepStage(sleepStage, densities):\n",
    "    filenames = glob('DataSujetos/%s_*.csv' % sleepStage)\n",
    "    graphs = {}\n",
    "    for filename in filenames:\n",
    "        Gs = subjectmatrix2graphslist(filename, densities)\n",
    "        name = Path(filename).stem\n",
    "        graphs[name] = Gs\n",
    "    return graphs    \n",
    "    \n",
    "    \n",
    "densities = np.linspace(0,1,50)\n",
    "\n",
    "graphsBySleepStage = {}\n",
    "\n",
    "#se arma una mapa por estadio de sueño con los grafos de cada individuo\n",
    "for sleepStage in sleepStages: \n",
    "    graphsBySleepStage[sleepStage] = graphslistBySleepStage(sleepStage, densities)\n",
    "\n"
   ]
  },
  {
   "cell_type": "markdown",
   "metadata": {},
   "source": [
    "# Tarea 4: Diferencias en la membresía para los diferentes estadíos"
   ]
  },
  {
   "cell_type": "markdown",
   "metadata": {},
   "source": [
    "Para identificar diferencias significativas globales en la membresía de los nodos entre los distintos estadíos del sueño (N1, N2 y N3), con el estadio despierto (W) se propone seguir el procedimiento propuesto por Alexander-Bloch y colaboradores [Alexander-Bloch et al., 2012].\n",
    "\n",
    "Se quiere saber si las comunidades encontradas en un estadio de sueño N X y las encontradas en el cerebro despierto W son similares.\n",
    "\n",
    "1. Se toman para todos los pares de sujetos en N X el Índice de Rand ajustado (adjusted-for-chance Rand index).\n",
    "2. Se toman para todos los pares de sujetos en W el Índice de Rand ajustado (adjusted-for-chance Rand index).\n",
    "3. Se promedian y se obtiene el Índice de Rand ajustado \"within-group\" observado (RIo). Se lo graficar junto al error estandar de la media.\n",
    "4. Se aleatorizan las etiquetas de los parece NX-W de forma que siempre esten todos los sujetos en cada grupo pero con las etiquetas cambiadas, y se repiten los pasos 1-3 de forma de obtener un Índice de Rand ajustado \"within-group\" permutado (RIp). Este paso se repite N p veces generando una distribución empirica de valores de valores RIp.\n",
    "5. El p-valor se calcula como la cantidad de permutaciones que dieron RIp > RIo divido Np."
   ]
  },
  {
   "cell_type": "code",
   "execution_count": 4,
   "metadata": {},
   "outputs": [],
   "source": [
    "from community import community_louvain"
   ]
  },
  {
   "cell_type": "code",
   "execution_count": 5,
   "metadata": {},
   "outputs": [],
   "source": [
    "from sklearn.metrics import adjusted_rand_score"
   ]
  },
  {
   "cell_type": "code",
   "execution_count": 26,
   "metadata": {},
   "outputs": [],
   "source": [
    "number_of_permutations = 20\n",
    "wakeStage = sleepStagesOrdered[0]\n",
    "nxStages = (sleepStagesOrdered[1], sleepStagesOrdered[2], sleepStagesOrdered[3])\n",
    "\n",
    "def calculateWithinGroupSimilarity(modules_subjects):\n",
    "    rand_indexes = []\n",
    "    cant_subjects = len(modules_subjects)\n",
    "    for i in range(0, cant_subjects - 1):\n",
    "        for j in range(i + 1, cant_subjects):\n",
    "            rand_index = adjusted_rand_score(modules_subjects[i], modules_subjects[j])\n",
    "            rand_indexes.append(rand_index)\n",
    "    rand_indexes = np.vstack(rand_indexes)\n",
    "    return rand_indexes.mean()\n",
    "\n",
    "def buildModulesSubjects(graphs_subjects):\n",
    "    modules_subjects = []\n",
    "    for graph in graphs_subjects:\n",
    "        modules = community_louvain.best_partition(graph)\n",
    "        values = [v for n,v in modules.items()]\n",
    "        modules_subjects.append(values)\n",
    "    return modules_subjects\n",
    "\n",
    "def getGraphsSubjects(stage, i, graphs):\n",
    "    graphs_subjects = []\n",
    "    stageData = graphs[stage]\n",
    "    for subjectName, graphs in sorted(stageData.items()):\n",
    "        graphs_subjects.append(graphs[i])\n",
    "    return graphs_subjects\n",
    "\n",
    "def buildModules(i, graphsBySleepStage):\n",
    "    # Se construye un dictionary de modules_subjects por sleepStages\n",
    "    modules = {}\n",
    "    for stage in sleepStages:\n",
    "        graphs_subjects = getGraphsSubjects(stage, i, graphsBySleepStage)\n",
    "        modules_subjects = buildModulesSubjects(graphs_subjects)\n",
    "        modules[stage] = modules_subjects\n",
    "    return modules\n",
    "\n",
    "def rand_value(modulesByStage):\n",
    "    \n",
    "    # Se construye un dictionary de similarities por sleepStages    \n",
    "    similarities = {}\n",
    "    for stage in sleepStages:\n",
    "        modules_subjects = modulesByStage[stage]\n",
    "        within_group_similarity = calculateWithinGroupSimilarity(modules_subjects)\n",
    "        similarities[stage] = within_group_similarity\n",
    "    \n",
    "    # Se promedian cada uno de los nxStages con wakeStage\n",
    "    nxStagesSimilarities = {}\n",
    "    for nx in nxStages:\n",
    "        sim = np.vstack([similarities[wakeStage], similarities[nx]])\n",
    "        nxStagesSimilarities[nx] = (sim.mean(), sim.std())\n",
    "        \n",
    "    return nxStagesSimilarities\n",
    "    \n",
    "def rand_value_pair(wake_nx_modules_pair):\n",
    "    within_wake_similarity = calculateWithinGroupSimilarity(wake_nx_modules_pair[0])\n",
    "    within_nx_similarity = calculateWithinGroupSimilarity(wake_nx_modules_pair[1])\n",
    "    sim = np.vstack([within_wake_similarity, within_nx_similarity])\n",
    "    return (sim.mean(), sim.std())\n",
    "    "
   ]
  },
  {
   "cell_type": "code",
   "execution_count": 22,
   "metadata": {},
   "outputs": [],
   "source": [
    "from random import *\n",
    "\n",
    "randBinList = lambda n: [randint(0,1) for b in range(1, n + 1)]\n",
    "\n",
    "def randomizeModulesSubjects(modules_subjects):\n",
    "    comparisions = {}\n",
    "    for stageName, module in modules_subjects.items():\n",
    "        if stageName != wakeStage:\n",
    "            wake_subjects = modules_subjects[wakeStage]\n",
    "            nx_subjects = modules_subjects[stageName]\n",
    "            permutations = randBinList(len(wake_subjects))\n",
    "            for i in range(len(wake_subjects)):\n",
    "                if permutations[i] == 1:\n",
    "                    # swap\n",
    "                    temp = wake_subjects[i]\n",
    "                    wake_subjects[i] = nx_subjects[i]\n",
    "                    nx_subjects[i] = temp\n",
    "            comparisions[stageName] = (wake_subjects, nx_subjects)\n",
    "    return comparisions\n"
   ]
  },
  {
   "cell_type": "code",
   "execution_count": 23,
   "metadata": {},
   "outputs": [],
   "source": [
    "\n",
    "def calculateEmpiricDistribution(modulesByStage):\n",
    "    permutations_n1 = []\n",
    "    permutations_n2 = []\n",
    "    permutations_n3 = []\n",
    "    for i in range(number_of_permutations):\n",
    "        print(\"permutation \" + str(i))    \n",
    "        modules_permutados = randomizeModulesSubjects(modulesByStage)\n",
    "        for stageName, modules in modules_permutados.items():\n",
    "            results = rand_value_pair(modules)\n",
    "            if stageName == nxStages[0]:\n",
    "                permutations_n1.append(results)\n",
    "            if stageName == nxStages[1]:\n",
    "                permutations_n2.append(results)\n",
    "            if stageName == nxStages[2]:\n",
    "                permutations_n3.append(results)\n",
    "    return (permutations_n1, permutations_n2, permutations_n3)\n"
   ]
  },
  {
   "cell_type": "code",
   "execution_count": 20,
   "metadata": {},
   "outputs": [],
   "source": [
    "#plt.figure()\n",
    "#plt.hist(permutations_n1)"
   ]
  },
  {
   "cell_type": "code",
   "execution_count": 24,
   "metadata": {},
   "outputs": [],
   "source": [
    "def calculate_pvalue(dist, actual_value):\n",
    "    cant = 0\n",
    "    for i in range(len(dist)):\n",
    "        ri = dist[i]\n",
    "        if ri[0] > actual_value:\n",
    "            cant = cant + 1\n",
    "    return cant / number_of_permutations\n",
    "\n",
    "def calculate_mean_std_dist(dist):\n",
    "    means = [v[0] for v in dist]\n",
    "    means = np.vstack(means)\n",
    "    stds = [v[1] for v in dist]\n",
    "    stds = np.vstack(stds)\n",
    "    return (means.mean(), stds.std())"
   ]
  },
  {
   "cell_type": "code",
   "execution_count": 27,
   "metadata": {},
   "outputs": [
    {
     "name": "stdout",
     "output_type": "stream",
     "text": [
      "density 0: 0.0\n",
      "permutation 0\n",
      "permutation 1\n",
      "permutation 2\n",
      "permutation 3\n",
      "permutation 4\n",
      "permutation 5\n",
      "permutation 6\n",
      "permutation 7\n",
      "permutation 8\n",
      "permutation 9\n",
      "permutation 10\n",
      "permutation 11\n",
      "permutation 12\n",
      "permutation 13\n",
      "permutation 14\n",
      "permutation 15\n",
      "permutation 16\n",
      "permutation 17\n",
      "permutation 18\n",
      "permutation 19\n",
      "density 1: 0.02040816326530612\n",
      "permutation 0\n",
      "permutation 1\n",
      "permutation 2\n",
      "permutation 3\n",
      "permutation 4\n",
      "permutation 5\n",
      "permutation 6\n",
      "permutation 7\n",
      "permutation 8\n",
      "permutation 9\n",
      "permutation 10\n",
      "permutation 11\n",
      "permutation 12\n",
      "permutation 13\n",
      "permutation 14\n",
      "permutation 15\n",
      "permutation 16\n",
      "permutation 17\n",
      "permutation 18\n",
      "permutation 19\n",
      "density 2: 0.04081632653061224\n",
      "permutation 0\n",
      "permutation 1\n",
      "permutation 2\n",
      "permutation 3\n",
      "permutation 4\n",
      "permutation 5\n",
      "permutation 6\n",
      "permutation 7\n",
      "permutation 8\n",
      "permutation 9\n",
      "permutation 10\n",
      "permutation 11\n",
      "permutation 12\n",
      "permutation 13\n",
      "permutation 14\n",
      "permutation 15\n",
      "permutation 16\n",
      "permutation 17\n",
      "permutation 18\n",
      "permutation 19\n",
      "density 3: 0.061224489795918366\n",
      "permutation 0\n",
      "permutation 1\n",
      "permutation 2\n",
      "permutation 3\n",
      "permutation 4\n",
      "permutation 5\n",
      "permutation 6\n",
      "permutation 7\n",
      "permutation 8\n",
      "permutation 9\n",
      "permutation 10\n",
      "permutation 11\n",
      "permutation 12\n",
      "permutation 13\n",
      "permutation 14\n",
      "permutation 15\n",
      "permutation 16\n",
      "permutation 17\n",
      "permutation 18\n",
      "permutation 19\n",
      "density 4: 0.08163265306122448\n",
      "permutation 0\n",
      "permutation 1\n",
      "permutation 2\n",
      "permutation 3\n",
      "permutation 4\n",
      "permutation 5\n",
      "permutation 6\n",
      "permutation 7\n",
      "permutation 8\n",
      "permutation 9\n",
      "permutation 10\n",
      "permutation 11\n",
      "permutation 12\n",
      "permutation 13\n",
      "permutation 14\n",
      "permutation 15\n",
      "permutation 16\n",
      "permutation 17\n",
      "permutation 18\n",
      "permutation 19\n"
     ]
    },
    {
     "data": {
      "image/png": "[encoded data removed]",
      "text/plain": [
       "<Figure size 1440x720 with 3 Axes>"
      ]
     },
     "metadata": {
      "needs_background": "light"
     },
     "output_type": "display_data"
    }
   ],
   "source": [
    "plt.figure(figsize=(20,10))\n",
    "\n",
    "# Actual groups\n",
    "n1ag_means = []\n",
    "n2ag_means = []\n",
    "n3ag_means = []\n",
    "n1ag_stds = []\n",
    "n2ag_stds = []\n",
    "n3ag_stds = []\n",
    "\n",
    "n1rg_means = []\n",
    "n2rg_means = []\n",
    "n3rg_means = []\n",
    "n1rg_stds = []\n",
    "n2rg_stds = []\n",
    "n3rg_stds = []\n",
    "\n",
    "n1_pvalues = []\n",
    "n2_pvalues = []\n",
    "n3_pvalues = []\n",
    "\n",
    "for i, density in enumerate(densities[:5]):\n",
    "    \n",
    "    print(\"density \" + str(i) + \": \" + str(density))\n",
    "    \n",
    "    modulesByStage = buildModules(i, graphsBySleepStage)    \n",
    "    rands = rand_value(modulesByStage)\n",
    "    \n",
    "    n1ag_means.append(rands[nxStages[0]][0])\n",
    "    n2ag_means.append(rands[nxStages[1]][0])\n",
    "    n3ag_means.append(rands[nxStages[2]][0])\n",
    "    n1ag_stds.append(rands[nxStages[0]][1])\n",
    "    n2ag_stds.append(rands[nxStages[1]][1])\n",
    "    n3ag_stds.append(rands[nxStages[2]][1])\n",
    "    \n",
    "    distn1, distn2, distn3 = calculateEmpiricDistribution(modulesByStage)\n",
    "\n",
    "    n1_pvalues.append(calculate_pvalue(distn1, n1ag_means[i]))\n",
    "    n2_pvalues.append(calculate_pvalue(distn2, n2ag_means[i]))\n",
    "    n3_pvalues.append(calculate_pvalue(distn3, n2ag_means[i]))\n",
    "\n",
    "    mean, std = calculate_mean_std_dist(distn1)\n",
    "    n1rg_means.append(mean)\n",
    "    n1rg_stds.append(std)\n",
    "\n",
    "    mean, std = calculate_mean_std_dist(distn2)\n",
    "    n2rg_means.append(mean)\n",
    "    n2rg_stds.append(std)\n",
    "    \n",
    "    mean, std = calculate_mean_std_dist(distn3)\n",
    "    n3rg_means.append(mean)\n",
    "    n3rg_stds.append(std)    \n",
    "\n",
    "plt.subplot(2,2,1)\n",
    "plt.errorbar(densities[:5], n1ag_means, n1ag_stds, label = \"Actual groups\")\n",
    "plt.errorbar(densities[:5], n1rg_means, n1rg_stds, label = \"Randomized groups\")\n",
    "plt.title(nxStages[0])\n",
    "plt.legend()\n",
    "plt.ylabel('Rand Index <RI>');\n",
    "\n",
    "plt.subplot(2,2,2)\n",
    "plt.errorbar(densities[:5], n2ag_means, n2ag_stds, label = \"Actual groups\")\n",
    "plt.errorbar(densities[:5], n2rg_means, n2rg_stds, label = \"Randomized groups\")\n",
    "plt.title(nxStages[1])\n",
    "plt.legend()\n",
    "plt.ylabel('Rand Index <RI>');\n",
    "\n",
    "plt.subplot(2,2,3)\n",
    "plt.errorbar(densities[:5], n3ag_means, n3ag_stds, label = \"Actual groups\")\n",
    "plt.errorbar(densities[:5], n3rg_means, n3rg_stds, label = \"Randomized groups\")\n",
    "plt.xlabel('Edges density')\n",
    "plt.title(nxStages[2])\n",
    "plt.legend()\n",
    "plt.ylabel('Rand Index <RI>');"
   ]
  },
  {
   "cell_type": "code",
   "execution_count": 28,
   "metadata": {},
   "outputs": [
    {
     "data": {
      "text/plain": [
       "[0.75, 0.4, 0.8, 0.85, 0.85]"
      ]
     },
     "execution_count": 28,
     "metadata": {},
     "output_type": "execute_result"
    }
   ],
   "source": [
    "n1_pvalues"
   ]
  },
  {
   "cell_type": "code",
   "execution_count": 29,
   "metadata": {},
   "outputs": [
    {
     "data": {
      "text/plain": [
       "[0.9, 0.0, 0.1, 0.15, 0.55]"
      ]
     },
     "execution_count": 29,
     "metadata": {},
     "output_type": "execute_result"
    }
   ],
   "source": [
    "n2_pvalues"
   ]
  },
  {
   "cell_type": "code",
   "execution_count": 30,
   "metadata": {},
   "outputs": [
    {
     "data": {
      "text/plain": [
       "[0.55, 0.0, 0.05, 0.15, 0.25]"
      ]
     },
     "execution_count": 30,
     "metadata": {},
     "output_type": "execute_result"
    }
   ],
   "source": [
    "n3_pvalues"
   ]
  }
 ],
 "metadata": {
  "kernelspec": {
   "display_name": "Python 3",
   "language": "python",
   "name": "python3"
  },
  "language_info": {
   "codemirror_mode": {
    "name": "ipython",
    "version": 3
   },
   "file_extension": ".py",
   "mimetype": "text/x-python",
   "name": "python",
   "nbconvert_exporter": "python",
   "pygments_lexer": "ipython3",
   "version": "3.7.3"
  }
 },
 "nbformat": 4,
 "nbformat_minor": 2
}
